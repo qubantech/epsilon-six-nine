{
 "cells": [
  {
   "cell_type": "code",
   "execution_count": 328,
   "metadata": {},
   "outputs": [],
   "source": [
    "import nltk\n",
    "from nltk.corpus import stopwords\n",
    "from string import punctuation\n",
    "import pandas as pd\n",
    "import csv\n",
    "from sklearn.feature_extraction.text import TfidfVectorizer, CountVectorizer\n",
    "import warnings\n",
    "from pymystem3 import Mystem\n",
    "from string import punctuation\n",
    "\n",
    "\n",
    "warnings.filterwarnings(\"ignore\")\n"
   ]
  },
  {
   "cell_type": "code",
   "execution_count": 331,
   "metadata": {},
   "outputs": [],
   "source": [
    "\n",
    "russian_stopwords = stopwords.words(\"russian\")\n",
    "\n",
    "more_stop_words = ['это','также','данный', 'слово', 'который']\n",
    "for word in more_stop_words:\n",
    "    russian_stopwords.append(word)\n",
    "\n",
    "\n",
    "mystem = Mystem()\n",
    "\n",
    "#Preprocess function\n",
    "def preprocess_text(text):\n",
    "    tokens = mystem.lemmatize(text.lower())\n",
    "    tokens = [token for token in tokens if token not in russian_stopwords\\\n",
    "              and token != \" \" \\\n",
    "              and token.strip() not in punctuation]\n",
    "    \n",
    "    text = \" \".join(tokens)\n",
    "    \n",
    "    return text"
   ]
  },
  {
   "cell_type": "markdown",
   "metadata": {},
   "source": [
    "### Get reports datasets"
   ]
  },
  {
   "cell_type": "code",
   "execution_count": 332,
   "metadata": {},
   "outputs": [],
   "source": [
    "dataset_answered = pd.read_csv('Reports-examples.csv', error_bad_lines=False)\n",
    "# dataset_answered = dataset_answered.dropna()\n"
   ]
  },
  {
   "cell_type": "code",
   "execution_count": 333,
   "metadata": {},
   "outputs": [],
   "source": [
    "dataset_no_answers = pd.read_csv('Reports-no-answers.csv', error_bad_lines=False)\n",
    "dataset_no_answers.drop([' spare column ', '№ обращения'],inplace=True, axis=1)\n"
   ]
  },
  {
   "cell_type": "code",
   "execution_count": 334,
   "metadata": {},
   "outputs": [],
   "source": [
    "\n",
    "temp_df = dataset_no_answers \n",
    "# print(dataset_no_answers)"
   ]
  },
  {
   "cell_type": "code",
   "execution_count": 335,
   "metadata": {},
   "outputs": [
    {
     "data": {
      "text/html": [
       "<div>\n",
       "<style scoped>\n",
       "    .dataframe tbody tr th:only-of-type {\n",
       "        vertical-align: middle;\n",
       "    }\n",
       "\n",
       "    .dataframe tbody tr th {\n",
       "        vertical-align: top;\n",
       "    }\n",
       "\n",
       "    .dataframe thead th {\n",
       "        text-align: right;\n",
       "    }\n",
       "</style>\n",
       "<table border=\"1\" class=\"dataframe\">\n",
       "  <thead>\n",
       "    <tr style=\"text-align: right;\">\n",
       "      <th></th>\n",
       "      <th>текст_обращения</th>\n",
       "    </tr>\n",
       "  </thead>\n",
       "  <tbody>\n",
       "    <tr>\n",
       "      <th>0</th>\n",
       "      <td>суть претензия мед работник находиться филиал ...</td>\n",
       "    </tr>\n",
       "    <tr>\n",
       "      <th>1</th>\n",
       "      <td>доводить ваш сведение горячий линия обращаться...</td>\n",
       "    </tr>\n",
       "    <tr>\n",
       "      <th>2</th>\n",
       "      <td>доводить ваш сведение горячий линия обращаться...</td>\n",
       "    </tr>\n",
       "    <tr>\n",
       "      <th>3</th>\n",
       "      <td>доводить ваш сведение горячий линия обращаться...</td>\n",
       "    </tr>\n",
       "    <tr>\n",
       "      <th>4</th>\n",
       "      <td>доводить ваш сведение горячий линия обращаться...</td>\n",
       "    </tr>\n",
       "    <tr>\n",
       "      <th>5</th>\n",
       "      <td>суть претензия   –    пациент обращаться пз 8 ...</td>\n",
       "    </tr>\n",
       "    <tr>\n",
       "      <th>6</th>\n",
       "      <td>доводить ваш сведение горячий линия обращаться...</td>\n",
       "    </tr>\n",
       "    <tr>\n",
       "      <th>7</th>\n",
       "      <td>доводить ваш сведение горячий линия обращаться...</td>\n",
       "    </tr>\n",
       "    <tr>\n",
       "      <th>8</th>\n",
       "      <td>доводить ваш сведение горячий линия обращаться...</td>\n",
       "    </tr>\n",
       "    <tr>\n",
       "      <th>9</th>\n",
       "      <td>претензия хотеть клиент регистратор пз коррект...</td>\n",
       "    </tr>\n",
       "  </tbody>\n",
       "</table>\n",
       "</div>"
      ],
      "text/plain": [
       "                                     текст_обращения\n",
       "0  суть претензия мед работник находиться филиал ...\n",
       "1  доводить ваш сведение горячий линия обращаться...\n",
       "2  доводить ваш сведение горячий линия обращаться...\n",
       "3  доводить ваш сведение горячий линия обращаться...\n",
       "4  доводить ваш сведение горячий линия обращаться...\n",
       "5  суть претензия   –    пациент обращаться пз 8 ...\n",
       "6  доводить ваш сведение горячий линия обращаться...\n",
       "7  доводить ваш сведение горячий линия обращаться...\n",
       "8  доводить ваш сведение горячий линия обращаться...\n",
       "9  претензия хотеть клиент регистратор пз коррект..."
      ]
     },
     "execution_count": 335,
     "metadata": {},
     "output_type": "execute_result"
    }
   ],
   "source": [
    "# dataset_answered\n",
    "# dataset_no_answers\n",
    "temp_df2 = temp_df\n",
    "i = 0\n",
    "for report in temp_df[' текст_обращения']:    \n",
    "    # print(preprocess_text(report), '\\n')\n",
    "    temp_df2[' текст_обращения'][i] = preprocess_text(report)\n",
    "    i += 1\n",
    "temp_df2.head(10)\n"
   ]
  },
  {
   "cell_type": "code",
   "execution_count": 336,
   "metadata": {},
   "outputs": [],
   "source": [
    "temp_df2.to_csv('clean_no_answered_dataset.csv')\n"
   ]
  },
  {
   "cell_type": "markdown",
   "metadata": {},
   "source": [
    "### Get clear dataset"
   ]
  },
  {
   "cell_type": "code",
   "execution_count": 337,
   "metadata": {},
   "outputs": [],
   "source": [
    "dataset_no_answers = pd.read_csv('clean_no_answered_dataset.csv')\n",
    "# dataset_no_answers = temp_df2[' текст_обращения'].values\n",
    "dataset_no_answers = dataset_no_answers.drop('Unnamed: 0', axis=1)\n",
    "\n",
    "dataset_no_answers = dataset_no_answers[' текст_обращения'].values\n",
    "\n",
    "# dataset_no_answers"
   ]
  },
  {
   "cell_type": "markdown",
   "metadata": {},
   "source": [
    "### NMF"
   ]
  },
  {
   "cell_type": "code",
   "execution_count": 351,
   "metadata": {},
   "outputs": [
    {
     "data": {
      "text/plain": [
       "['анализ',\n",
       " 'время',\n",
       " 'ждать',\n",
       " 'забор',\n",
       " 'звонок',\n",
       " 'исследование',\n",
       " 'клиент',\n",
       " 'коронавирус',\n",
       " 'кровь',\n",
       " 'лаборатория',\n",
       " 'линия',\n",
       " 'мед',\n",
       " 'медсестра',\n",
       " 'мера',\n",
       " 'мочь',\n",
       " 'недовольный',\n",
       " 'обратный',\n",
       " 'обращаться',\n",
       " 'обращение',\n",
       " 'очередь',\n",
       " 'пациент',\n",
       " 'пациентка',\n",
       " 'пз',\n",
       " 'почта',\n",
       " 'претензия',\n",
       " 'принимать',\n",
       " 'просить',\n",
       " 'пцр',\n",
       " 'разбираться',\n",
       " 'ребенок',\n",
       " 'регистратор',\n",
       " 'результат',\n",
       " 'свой',\n",
       " 'связь',\n",
       " 'сдавать',\n",
       " 'сдача',\n",
       " 'сестра',\n",
       " 'сказать',\n",
       " 'сотрудник',\n",
       " 'хотеть']"
      ]
     },
     "execution_count": 351,
     "metadata": {},
     "output_type": "execute_result"
    }
   ],
   "source": [
    "from sklearn.decomposition import NMF, LatentDirichletAllocation\n",
    "\n",
    "no_topics = 35\n",
    "no_features = 40\n",
    "\n",
    "tfidf_vectorizer = TfidfVectorizer(max_features=no_features, min_df=1, stop_words=russian_stopwords)\n",
    "tfidf = tfidf_vectorizer.fit_transform(dataset_no_answers)\n",
    "tfidf_feature_names = tfidf_vectorizer.get_feature_names()\n",
    "tfidf_feature_names\n",
    "\n"
   ]
  },
  {
   "cell_type": "code",
   "execution_count": 352,
   "metadata": {},
   "outputs": [],
   "source": [
    "\n",
    "# Run NMF\n",
    "nmf = NMF(n_components=no_topics, random_state=1, alpha=.1, l1_ratio=.5).fit(tfidf)\n"
   ]
  },
  {
   "cell_type": "markdown",
   "metadata": {},
   "source": [
    "### LDA"
   ]
  },
  {
   "cell_type": "code",
   "execution_count": 353,
   "metadata": {},
   "outputs": [],
   "source": [
    "\n",
    "# LDA can only use raw term counts for LDA because it is a probabilistic graphical model\n",
    "tf_vectorizer = CountVectorizer(max_features=no_features, stop_words=russian_stopwords)\n",
    "tf = tf_vectorizer.fit_transform(dataset_no_answers)\n",
    "tf_feature_names = tf_vectorizer.get_feature_names()\n",
    "# tf_feature_names\n",
    "\n"
   ]
  },
  {
   "cell_type": "code",
   "execution_count": 354,
   "metadata": {},
   "outputs": [],
   "source": [
    "\n",
    "# Run LDA\n",
    "lda = LatentDirichletAllocation(n_components=no_topics, max_iter=5, learning_method='online', learning_offset=50.0, random_state=0).fit(tf)"
   ]
  },
  {
   "cell_type": "code",
   "execution_count": 355,
   "metadata": {},
   "outputs": [
    {
     "name": "stdout",
     "output_type": "stream",
     "text": [
      "Topic 0: анализ хотеть претензия сдавать сдача клиент сказать пациент результат ждать забор звонок исследование недовольный коронавирус кровь время \n",
      "Topic 1: пациент разбираться пз претензия недовольный хотеть сотрудник результат сдача анализ обращаться пцр исследование обращение медсестра мера сдавать \n",
      "Topic 2: клиент хотеть претензия обратный анализ пациентка просить сказать сдавать кровь мера медсестра мед линия лаборатория коронавирус недовольный \n",
      "Topic 3: пациентка пз претензия хотеть линия недовольный свой принимать анализ регистратор мочь время ждать забор звонок исследование клиент \n",
      "Topic 4: медсестра ждать обращаться пациент анализ звонок исследование клиент коронавирус кровь обращение линия мед забор мера мочь недовольный \n",
      "Topic 5: претензия хотеть обращение обратный недовольный мочь мера медсестра мед линия лаборатория кровь коронавирус клиент исследование звонок забор \n",
      "Topic 6: сотрудник пз пациент ждать просить хотеть мед недовольный мочь мера медсестра линия обращаться лаборатория кровь коронавирус клиент \n",
      "Topic 7: кровь хотеть ребенок ждать линия обратный недовольный мочь мера медсестра мед лаборатория забор обращение время коронавирус клиент \n",
      "Topic 8: связь обратный ждать принимать просить претензия клиент недовольный мочь мера медсестра мед хотеть линия обращаться кровь коронавирус \n",
      "Topic 9: сестра клиент мед хотеть принимать линия обратный недовольный мочь мера медсестра кровь лаборатория обращение коронавирус исследование звонок \n",
      "Topic 10: почта линия звонок хотеть обратный недовольный мочь мера медсестра мед лаборатория обращение кровь коронавирус клиент исследование забор \n",
      "Topic 11: недовольный линия претензия клиент пациент хотеть обратный мочь мера медсестра мед лаборатория обращение кровь коронавирус исследование звонок \n",
      "Topic 12: регистратор хотеть принимать лаборатория обратный недовольный мочь мера медсестра мед линия кровь обращение коронавирус клиент исследование звонок \n",
      "Topic 13: пз обращаться анализ клиент ждать мед обратный время недовольный мочь мера медсестра линия забор обращение кровь коронавирус \n",
      "Topic 14: звонок ждать разбираться обратный пациент недовольный мера линия хотеть мочь медсестра мед лаборатория обращение кровь коронавирус клиент \n",
      "Topic 15: забор клиент связь обращаться звонок анализ исследование ждать время коронавирус обращение лаборатория линия мед медсестра мера мочь \n",
      "Topic 16: хотеть сотрудник обращаться обратный недовольный мочь мера медсестра мед линия лаборатория кровь коронавирус клиент исследование звонок забор \n",
      "Topic 17: результат анализ пациент разбираться претензия исследование недовольный забор мед время мочь мера медсестра линия звонок лаборатория обращаться \n",
      "Topic 18: коронавирус пз линия пцр хотеть обратный недовольный мочь мера медсестра мед лаборатория обращение кровь клиент исследование звонок \n",
      "Topic 19: очередь пз ждать претензия пациент принимать мед недовольный мочь мера медсестра линия обращаться лаборатория кровь коронавирус клиент \n",
      "Topic 20: лаборатория обращаться принимать время ждать обратный недовольный мочь мера медсестра мед линия обращение кровь коронавирус клиент исследование \n",
      "Topic 21: обращаться линия пациент пз медсестра клиент обратный недовольный мочь мера мед хотеть обращение кровь коронавирус исследование звонок \n",
      "Topic 22: сказать клиент анализ линия связь лаборатория обратный недовольный мочь мера медсестра мед коронавирус кровь обращение исследование звонок \n",
      "Topic 23: обращение линия сотрудник обращаться обратный недовольный мочь мера медсестра мед хотеть кровь коронавирус клиент исследование звонок забор \n",
      "Topic 24: сдача клиент анализ обращаться ждать забор звонок исследование время коронавирус обращение лаборатория линия мед медсестра мера мочь \n",
      "Topic 25: время пациент хотеть ждать мед обращаться обратный недовольный мочь мера медсестра линия забор обращение кровь коронавирус клиент \n",
      "Topic 26: свой мера разбираться хотеть обратный недовольный мочь медсестра мед линия лаборатория кровь обращение коронавирус клиент исследование звонок \n",
      "Topic 27: сдавать анализ линия пациент клиент сказать лаборатория недовольный мочь мера медсестра мед коронавирус кровь обращаться исследование звонок \n",
      "Topic 28: мочь хотеть сотрудник обращаться обратный недовольный мера медсестра мед линия лаборатория кровь коронавирус клиент исследование звонок забор \n",
      "Topic 29: исследование связь линия хотеть лаборатория обратный недовольный мочь мера медсестра мед кровь обращение коронавирус клиент звонок забор \n",
      "Topic 30: пцр клиент звонок обратный коронавирус хотеть недовольный мочь мера медсестра мед лаборатория линия обращение кровь исследование забор \n",
      "Topic 31: ребенок клиент ждать обращаться кровь анализ забор звонок исследование время коронавирус обращение лаборатория линия мед медсестра мера \n",
      "Topic 32: мед сестра обращаться пациент принимать претензия обратный звонок недовольный мочь мера медсестра хотеть линия кровь коронавирус клиент \n",
      "Topic 33: просить разбираться пациент мера линия звонок хотеть недовольный мочь медсестра мед лаборатория обращаться кровь коронавирус клиент исследование \n",
      "Topic 34: принимать мера разбираться пациент просить недовольный ждать сотрудник исследование клиент коронавирус кровь лаборатория обратный линия звонок забор \n"
     ]
    }
   ],
   "source": [
    "def display_topics(model, feature_names, no_top_words):\n",
    "    for topic_idx, topic in enumerate(model.components_):\n",
    "        s = \"Topic %d: \" % (topic_idx)\n",
    "        s1 = [feature_names[i] for i in topic.argsort()[:-no_top_words - 1:-1]]\n",
    "        for word in s1:\n",
    "            s += word\n",
    "            s += ' '\n",
    "        print(s)\n",
    "\n",
    "\n",
    "no_top_words = 17\n",
    "display_topics(nmf, tfidf_feature_names, no_top_words)\n",
    "# display_topics(lda, tf_feature_names, no_top_words)\n"
   ]
  },
  {
   "cell_type": "markdown",
   "metadata": {},
   "source": [
    "### Test movie-review dataset"
   ]
  },
  {
   "cell_type": "markdown",
   "metadata": {},
   "source": [
    "### расстояния махеттенское, ливинштейна\n",
    "исправление опечаток???"
   ]
  }
 ],
 "metadata": {
  "interpreter": {
   "hash": "3bf4ecafce57d7e80fd4fa0549b97616699ad25c032d6958759ccc36dc147537"
  },
  "kernelspec": {
   "display_name": "Python 3.10.0 ('NewEnv')",
   "language": "python",
   "name": "python3"
  },
  "language_info": {
   "codemirror_mode": {
    "name": "ipython",
    "version": 3
   },
   "file_extension": ".py",
   "mimetype": "text/x-python",
   "name": "python",
   "nbconvert_exporter": "python",
   "pygments_lexer": "ipython3",
   "version": "3.10.0"
  },
  "orig_nbformat": 4
 },
 "nbformat": 4,
 "nbformat_minor": 2
}
